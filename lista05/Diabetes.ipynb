{
  "cells": [
    {
      "cell_type": "code",
      "execution_count": 1,
      "metadata": {
        "colab": {
          "base_uri": "https://localhost:8080/"
        },
        "id": "SlzdbmEcyHQh",
        "outputId": "e6c4616f-83cb-4438-fffa-a3486899c9e6"
      },
      "outputs": [
        {
          "name": "stdout",
          "output_type": "stream",
          "text": [
            "0.26865181564422547\n"
          ]
        }
      ],
      "source": [
        "from sklearn.datasets import load_diabetes\n",
        "from sklearn.ensemble import RandomForestRegressor\n",
        "import random\n",
        "import numpy as np\n",
        "from sklearn.model_selection import train_test_split\n",
        "from sklearn.metrics import r2_score\n",
        "\n",
        "\n",
        "random.seed(0)\n",
        "np.random.seed(0)\n",
        "\n",
        "# Load dataset\n",
        "X, y = load_diabetes(return_X_y=True)\n",
        "x_train, x_test, y_train, y_test = train_test_split(X, y, test_size=0.2, random_state=0)\n",
        "# Train Random Forest\n",
        "r = RandomForestRegressor()\n",
        "r.fit(x_train, y_train)\n",
        "print(r2_score(y_test, r.predict(x_test)))"
      ]
    },
    {
      "cell_type": "code",
      "execution_count": 86,
      "metadata": {
        "id": "ZXjEmKeUyWMm"
      },
      "outputs": [],
      "source": [
        "def safe_add(x, y):\n",
        "    return np.clip(x + y, -1e6, 1e6)\n",
        "\n",
        "def safe_sub(x, y):\n",
        "    return np.clip(x - y, -1e6, 1e6)\n",
        "\n",
        "def safe_mul(x, y):\n",
        "    return np.clip(x * y, -1e6, 1e6)\n",
        "\n",
        "def safe_div(x, y):\n",
        "    with np.errstate(divide='ignore', invalid='ignore'):\n",
        "        result = np.true_divide(x, y)\n",
        "        result[~np.isfinite(result)] = 0\n",
        "    return np.clip(result, -1e6, 1e6)\n",
        "\n",
        "FUNCTIONS = [safe_add, safe_sub, safe_mul, safe_div]\n",
        "FUNCTION_NAMES = ['+', '-', '*', '/']\n",
        "\n",
        "class Node:\n",
        "    def __init__(self, function=None, left=None, right=None, value=None):\n",
        "        self.function = function\n",
        "        self.left = left\n",
        "        self.right = right \n",
        "        self.value = value\n",
        "\n",
        "    def evaluate(self, X):\n",
        "        if self.value is not None:\n",
        "            return X[:, self.value]\n",
        "        left_val = self.left.evaluate(X)\n",
        "        right_val = self.right.evaluate(X)\n",
        "        try:\n",
        "            return self.function(left_val, right_val)\n",
        "        except ZeroDivisionError:\n",
        "            return np.zeros_like(left_val) \n",
        "\n",
        "    def __str__(self):\n",
        "        if self.value is not None:\n",
        "            return f\"x[{self.value}]\"\n",
        "        return f\"({self.left} {FUNCTION_NAMES[FUNCTIONS.index(self.function)]} {self.right})\"\n",
        "\n",
        "def generate_random_tree(depth, num_features):\n",
        "    if depth == 0 or (depth > 1 and random.random() < 0.3):\n",
        "        return Node(value=random.randint(0, num_features - 1))\n",
        "    function = random.choice(FUNCTIONS)\n",
        "    return Node(function=function,\n",
        "                left=generate_random_tree(depth-1, num_features),\n",
        "                right=generate_random_tree(depth-1, num_features))\n",
        "\n",
        "def fitness(tree, X, y):\n",
        "    y_pred = tree.evaluate(X)\n",
        "    r2 = r2_score(y, y_pred)\n",
        "    return 1 - r2\n",
        "\n",
        "def crossover(parent1, parent2, num_features):\n",
        "    if parent1 is None or parent2 is None:\n",
        "        return parent1 if parent2 is None else parent2\n",
        "    \n",
        "    if parent1.value is not None and parent2.value is not None:\n",
        "        return Node(value=random.choice([parent1.value, parent2.value]))\n",
        "\n",
        "    new_node = Node(function=random.choice([\n",
        "        parent1.function if parent1.function else random.choice(FUNCTIONS),\n",
        "        parent2.function if parent2.function else random.choice(FUNCTIONS)\n",
        "    ]))\n",
        "\n",
        "    new_node.left = crossover(parent1.left if parent1.left else Node(value=random.randint(0, num_features - 1)),\n",
        "                            parent2.left if parent2.left else Node(value=random.randint(0, num_features - 1)), num_features)\n",
        "    new_node.right = crossover(parent1.right if parent1.right else Node(value=random.randint(0, num_features - 1)),\n",
        "                            parent2.right if parent2.right else Node(value=random.randint(0, num_features - 1)), num_features)\n",
        "\n",
        "    return new_node\n",
        "\n",
        "def mutate(tree: Node, num_features, max_depth):\n",
        "    if random.random() < 0.4 and tree.function is not None:\n",
        "        tree.function = random.choice(FUNCTIONS)\n",
        "    elif random.random() < 0.4 and tree.value is not None:\n",
        "        tree.value = random.randint(0, num_features - 1)\n",
        "    else:\n",
        "        if random.random() < 0.4 and tree.left is not None:\n",
        "            tree.left = generate_random_tree(max_depth, num_features)\n",
        "        elif random.random() < 0.4 and tree.right is not None:\n",
        "            tree.right = generate_random_tree(max_depth, num_features)\n",
        "        else:\n",
        "            tree = generate_random_tree(max_depth, num_features)\n",
        "    return tree\n",
        "\n",
        "def genetic_programming(X, y, num_generations=10000, population_size=100, max_depth=3):\n",
        "    population = [generate_random_tree(max_depth, X.shape[1]) for _ in range(population_size)]\n",
        "    for generation in range(num_generations):\n",
        "        fitness_scores = np.array([fitness(tree, X, y) for tree in population])\n",
        "        sorted_indices = np.argsort(fitness_scores)\n",
        "        sorted_population = [population[i] for i in sorted_indices]\n",
        "\n",
        "        #print(f\"Generacja {generation}, Najlepsze MSE: {min(fitness_scores)}\")\n",
        "\n",
        "        elite_size = 10\n",
        "        elite_population = sorted_population[:elite_size]\n",
        "        population = sorted_population[:population_size // 2]\n",
        "        population = elite_population + population[:population_size - elite_size]\n",
        "        while len(population) < population_size:\n",
        "            parent1, parent2 = random.choices(sorted_population[:population_size // 2], k=2)\n",
        "            child = crossover(parent1, parent2, X.shape[1])\n",
        "            if random.random() < 0.5:\n",
        "                child = mutate(child, X.shape[1], max_depth)\n",
        "            population.append(child)\n",
        "    return sorted_population[0]"
      ]
    },
    {
      "cell_type": "markdown",
      "metadata": {},
      "source": [
        "Generowanie cech\n"
      ]
    },
    {
      "cell_type": "code",
      "execution_count": 87,
      "metadata": {},
      "outputs": [
        {
          "name": "stdout",
          "output_type": "stream",
          "text": [
            "(((x[8] + x[2]) / (x[1] * x[1])) - ((x[6] / x[8]) - (x[7] / x[4])))\n",
            "(((x[7] + x[2]) / (x[1] * x[1])) + ((x[3] / x[3]) + (x[9] / x[8])))\n",
            "Poprawione R2: 0.32536159472661474\n"
          ]
        }
      ],
      "source": [
        "best_trees = []\n",
        "num_features = X.shape[1]\n",
        "population_size = 1000\n",
        "num_generations = 200\n",
        "max_depth = 2\n",
        "\n",
        "for _ in range(2):\n",
        "    best_tree = genetic_programming(\n",
        "        X=x_train,\n",
        "        y=y_train,\n",
        "        num_generations=num_generations,\n",
        "        population_size=population_size,\n",
        "        max_depth=max_depth\n",
        "    )\n",
        "    print(best_tree)\n",
        "    best_trees.append(best_tree)\n",
        "\n",
        "new_features_train = np.hstack([tree.evaluate(x_train).reshape(-1, 1) for tree in best_trees])\n",
        "new_features_test = np.hstack([tree.evaluate(x_test).reshape(-1, 1) for tree in best_trees])\n",
        "\n",
        "x_train_extended = np.hstack((x_train, new_features_train))\n",
        "x_test_extended = np.hstack((x_test, new_features_test))\n",
        "\n",
        "rf = RandomForestRegressor()\n",
        "rf.fit(x_train_extended, y_train)\n",
        "\n",
        "r2 = r2_score(y_test, rf.predict(x_test_extended))\n",
        "print(f\"Poprawione R2: {r2}\")"
      ]
    },
    {
      "cell_type": "code",
      "execution_count": 6,
      "metadata": {},
      "outputs": [],
      "source": [
        "def feature_11(x):\n",
        "    return (((x[8] + x[2]) / (x[1] * x[1])) - ((x[6] / x[8]) - (x[7] / x[4])))\n",
        "\n",
        "def feature_12(x):\n",
        "    return (((x[7] + x[2]) / (x[1] * x[1])) + ((x[3] / x[3]) + (x[9] / x[8])))"
      ]
    },
    {
      "cell_type": "code",
      "execution_count": 8,
      "metadata": {},
      "outputs": [],
      "source": [
        "new_features = np.array([\n",
        "    [feature_11(row), feature_12(row)]\n",
        "    for row in X\n",
        "])"
      ]
    },
    {
      "cell_type": "code",
      "execution_count": 9,
      "metadata": {},
      "outputs": [
        {
          "name": "stdout",
          "output_type": "stream",
          "text": [
            "Poprawione R2: 0.32536159472661474\n"
          ]
        }
      ],
      "source": [
        "X_extended = np.hstack((X, new_features))\n",
        "x_train, x_test, y_train, y_test = train_test_split(X_extended, y, test_size=0.2, random_state=0)\n",
        "rf = RandomForestRegressor()\n",
        "rf.fit(x_train, y_train)\n",
        "\n",
        "r2 = r2_score(y_test, rf.predict(x_test))\n",
        "print(f\"Poprawione R2: {r2}\")"
      ]
    }
  ],
  "metadata": {
    "colab": {
      "provenance": []
    },
    "kernelspec": {
      "display_name": "DataScience",
      "language": "python",
      "name": "python3"
    },
    "language_info": {
      "codemirror_mode": {
        "name": "ipython",
        "version": 3
      },
      "file_extension": ".py",
      "mimetype": "text/x-python",
      "name": "python",
      "nbconvert_exporter": "python",
      "pygments_lexer": "ipython3",
      "version": "3.10.2"
    }
  },
  "nbformat": 4,
  "nbformat_minor": 0
}
