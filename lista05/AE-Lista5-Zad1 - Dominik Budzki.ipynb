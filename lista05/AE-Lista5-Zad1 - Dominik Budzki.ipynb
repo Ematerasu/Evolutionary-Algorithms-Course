{
 "cells": [
  {
   "cell_type": "markdown",
   "metadata": {},
   "source": [
    "Lista 5 Zadanie 1"
   ]
  },
  {
   "cell_type": "code",
   "execution_count": 72,
   "metadata": {},
   "outputs": [],
   "source": [
    "import numpy as np\n",
    "import random"
   ]
  },
  {
   "cell_type": "code",
   "execution_count": 73,
   "metadata": {},
   "outputs": [],
   "source": [
    "def safe_add(x, y):\n",
    "    return np.clip(x + y, -1e6, 1e6)\n",
    "\n",
    "def safe_sub(x, y):\n",
    "    return np.clip(x - y, -1e6, 1e6)\n",
    "\n",
    "def safe_mul(x, y):\n",
    "    return np.clip(x * y, -1e6, 1e6)\n",
    "\n",
    "def safe_div(x, y):\n",
    "    with np.errstate(divide='ignore', invalid='ignore'):\n",
    "        result = np.true_divide(x, y)\n",
    "        result[~np.isfinite(result)] = 0\n",
    "    return np.clip(result, -1e6, 1e6)"
   ]
  },
  {
   "cell_type": "code",
   "execution_count": 74,
   "metadata": {},
   "outputs": [],
   "source": [
    "FUNCTIONS = [safe_add, safe_sub, safe_mul, safe_div]\n",
    "FUNCTION_NAMES = ['+', '-', '*', '/']"
   ]
  },
  {
   "cell_type": "code",
   "execution_count": 75,
   "metadata": {},
   "outputs": [],
   "source": [
    "class Node:\n",
    "    def __init__(self, function=None, left=None, right=None, value=None):\n",
    "        self.function = function\n",
    "        self.left = left\n",
    "        self.right = right \n",
    "        self.value = value\n",
    "\n",
    "    def evaluate(self, X):\n",
    "        if self.value is not None:\n",
    "            return X[:, self.value]\n",
    "        left_val = self.left.evaluate(X)\n",
    "        right_val = self.right.evaluate(X)\n",
    "        try:\n",
    "            return self.function(left_val, right_val)\n",
    "        except ZeroDivisionError:\n",
    "            return np.zeros_like(left_val) \n",
    "\n",
    "    def __str__(self):\n",
    "        if self.value is not None:\n",
    "            return f\"x[{self.value}]\"\n",
    "        return f\"({self.left} {FUNCTION_NAMES[FUNCTIONS.index(self.function)]} {self.right})\"\n",
    "\n",
    "def generate_random_tree(depth, num_features):\n",
    "    if depth == 0 or (depth > 1 and random.random() < 0.3):\n",
    "        return Node(value=random.randint(0, num_features - 1))\n",
    "    function = random.choice(FUNCTIONS)\n",
    "    return Node(function=function,\n",
    "                left=generate_random_tree(depth-1, num_features),\n",
    "                right=generate_random_tree(depth-1, num_features))\n",
    "\n",
    "def fitness(tree, X, y):\n",
    "    y_pred = tree.evaluate(X)\n",
    "    mse = np.mean((y - y_pred) ** 2)\n",
    "    return mse\n",
    "\n",
    "def crossover(parent1, parent2, num_features):\n",
    "    if parent1 is None or parent2 is None:\n",
    "        return parent1 if parent2 is None else parent2\n",
    "    \n",
    "    if parent1.value is not None and parent2.value is not None:\n",
    "        return Node(value=random.choice([parent1.value, parent2.value]))\n",
    "\n",
    "    new_node = Node(function=random.choice([\n",
    "        parent1.function if parent1.function else random.choice(FUNCTIONS),\n",
    "        parent2.function if parent2.function else random.choice(FUNCTIONS)\n",
    "    ]))\n",
    "\n",
    "    new_node.left = crossover(parent1.left if parent1.left else Node(value=random.randint(0, num_features - 1)),\n",
    "                            parent2.left if parent2.left else Node(value=random.randint(0, num_features - 1)), num_features)\n",
    "    new_node.right = crossover(parent1.right if parent1.right else Node(value=random.randint(0, num_features - 1)),\n",
    "                            parent2.right if parent2.right else Node(value=random.randint(0, num_features - 1)), num_features)\n",
    "\n",
    "    return new_node\n",
    "\n",
    "def mutate(tree: Node, num_features, max_depth):\n",
    "    if random.random() < 0.4 and tree.function is not None:\n",
    "        tree.function = random.choice(FUNCTIONS)\n",
    "    elif random.random() < 0.4 and tree.value is not None:\n",
    "        tree.value = random.randint(0, num_features - 1)\n",
    "    else:\n",
    "        if random.random() < 0.4 and tree.left is not None:\n",
    "            tree.left = generate_random_tree(max_depth, num_features)\n",
    "        elif random.random() < 0.4 and tree.right is not None:\n",
    "            tree.right = generate_random_tree(max_depth, num_features)\n",
    "        else:\n",
    "            tree = generate_random_tree(max_depth, num_features)\n",
    "    return tree\n",
    "\n",
    "def genetic_programming(X, y, num_generations=10000, population_size=100, max_depth=3):\n",
    "    population = [generate_random_tree(max_depth, X.shape[1]) for _ in range(population_size)]\n",
    "    for generation in range(num_generations):\n",
    "        fitness_scores = np.array([fitness(tree, X, y) for tree in population])\n",
    "        sorted_indices = np.argsort(fitness_scores)\n",
    "        sorted_population = [population[i] for i in sorted_indices]\n",
    "\n",
    "        # print(f\"Generacja {generation}, Najlepsze MSE: {min(fitness_scores)}\")\n",
    "\n",
    "        elite_size = 5\n",
    "        elite_population = sorted_population[:elite_size]\n",
    "        population = sorted_population[:population_size // 2]\n",
    "        population = elite_population + population[:population_size - elite_size]\n",
    "        while len(population) < population_size:\n",
    "            parent1, parent2 = random.choices(sorted_population[:population_size // 2], k=2)\n",
    "            child = crossover(parent1, parent2, X.shape[1])\n",
    "            if random.random() < 0.5:\n",
    "                child = mutate(child, X.shape[1], max_depth)\n",
    "            population.append(child)\n",
    "    return sorted_population[0]"
   ]
  },
  {
   "cell_type": "code",
   "execution_count": 76,
   "metadata": {},
   "outputs": [],
   "source": [
    "train_file_path = \"srsd-feynman_medium/train/feynman-i.11.19.txt\"\n",
    "test_file_path = \"srsd-feynman_medium/test/feynman-i.11.19.txt\"\n",
    "\n",
    "train_data = np.loadtxt(train_file_path)\n",
    "train_X = train_data[:, :-1]\n",
    "train_y = train_data[:, -1]\n",
    "\n",
    "test_data = np.loadtxt(test_file_path)\n",
    "test_X = test_data[:, :-1]\n",
    "test_y = test_data[:, -1]"
   ]
  },
  {
   "cell_type": "code",
   "execution_count": null,
   "metadata": {},
   "outputs": [
    {
     "name": "stdout",
     "output_type": "stream",
     "text": [
      "\n",
      "Najlepsze rozwiązanie:\n",
      "(((x[1] * x[0]) + (x[5] * x[4])) + (((x[5] - x[5]) / (x[3] + x[3])) + ((x[3] * x[2]) - (x[3] - x[3]))))\n",
      "1.9774141940547198e-30\n",
      "1.730921400464013e-30\n",
      "Oryginalna funkcja:\n",
      " x[0]*x[1] + x[2]*x[3]+x[4]*x[5]\n"
     ]
    }
   ],
   "source": [
    "best_tree = genetic_programming(train_X, train_y)\n",
    "print(\"\\nNajlepsze rozwiązanie:\")\n",
    "print(best_tree)\n",
    "print(fitness(best_tree, train_X, train_y))\n",
    "print(fitness(best_tree, test_X, test_y))\n",
    "\n",
    "print(\"Oryginalna funkcja:\\n x[0]*x[1] + x[2]*x[3]+x[4]*x[5]\")\n"
   ]
  },
  {
   "cell_type": "code",
   "execution_count": 78,
   "metadata": {},
   "outputs": [],
   "source": [
    "train_file_path = \"srsd-feynman_medium/train/feynman-i.34.8.txt\"\n",
    "test_file_path = \"srsd-feynman_medium/test/feynman-i.34.8.txt\"\n",
    "\n",
    "train_data = np.loadtxt(train_file_path)\n",
    "train_X = train_data[:, :-1]\n",
    "train_y = train_data[:, -1]\n",
    "\n",
    "test_data = np.loadtxt(test_file_path)\n",
    "test_X = test_data[:, :-1]\n",
    "test_y = test_data[:, -1]\n"
   ]
  },
  {
   "cell_type": "code",
   "execution_count": 79,
   "metadata": {},
   "outputs": [
    {
     "name": "stdout",
     "output_type": "stream",
     "text": [
      "\n",
      "Najlepsze rozwiązanie:\n",
      "(((x[2] / x[3]) / (x[0] - x[3])) * ((x[0] - x[3]) * (x[0] * x[1])))\n",
      "7.4052368174492345e-53\n",
      "5.867977945288164e-53\n",
      "Oryginalna funkcja:\n",
      " (x[0]*x[1]*x[2])/x[3]\n"
     ]
    }
   ],
   "source": [
    "best_tree = genetic_programming(train_X, train_y)\n",
    "print(\"\\nNajlepsze rozwiązanie:\")\n",
    "print(best_tree)\n",
    "print(fitness(best_tree, train_X, train_y))\n",
    "print(fitness(best_tree, test_X, test_y))\n",
    "\n",
    "print(\"Oryginalna funkcja:\\n (x[0]*x[1]*x[2])/x[3]\")\n"
   ]
  },
  {
   "cell_type": "code",
   "execution_count": 80,
   "metadata": {},
   "outputs": [],
   "source": [
    "train_file_path = \"srsd-feynman_easy_dummy/train/feynman-i.12.1.txt\"\n",
    "test_file_path = \"srsd-feynman_easy_dummy/test/feynman-i.12.1.txt\"\n",
    "\n",
    "train_data = np.loadtxt(train_file_path)\n",
    "train_X = train_data[:, :-1]\n",
    "train_y = train_data[:, -1]\n",
    "\n",
    "test_data = np.loadtxt(test_file_path)\n",
    "test_X = test_data[:, :-1]\n",
    "test_y = test_data[:, -1]\n"
   ]
  },
  {
   "cell_type": "code",
   "execution_count": 81,
   "metadata": {},
   "outputs": [
    {
     "name": "stdout",
     "output_type": "stream",
     "text": [
      "\n",
      "Najlepsze rozwiązanie:\n",
      "((((x[0] / x[2]) * (x[2] - x[1])) * ((x[2] * x[0]) * (x[0] / x[2]))) + (((x[2] + x[0]) / (x[1] / x[1])) / ((x[1] / x[1]) / (x[1] - x[2]))))\n",
      "2.063460999475474e-17\n",
      "1.5829485265651865e-17\n",
      "Oryginalna funkcja:\n",
      " (x[0]*x[1])\n"
     ]
    }
   ],
   "source": [
    "best_tree = genetic_programming(train_X, train_y, num_generations=10000)\n",
    "print(\"\\nNajlepsze rozwiązanie:\")\n",
    "print(best_tree)\n",
    "print(fitness(best_tree, train_X, train_y))\n",
    "print(fitness(best_tree, test_X, test_y))\n",
    "\n",
    "print(\"Oryginalna funkcja:\\n (x[0]*x[1])\")"
   ]
  },
  {
   "cell_type": "code",
   "execution_count": 82,
   "metadata": {},
   "outputs": [],
   "source": [
    "train_file_path = \"srsd-feynman_easy_dummy/train/feynman-i.25.13.txt\"\n",
    "test_file_path = \"srsd-feynman_easy_dummy/test/feynman-i.25.13.txt\"\n",
    "\n",
    "train_data = np.loadtxt(train_file_path)\n",
    "train_X = train_data[:, :-1]\n",
    "train_y = train_data[:, -1]\n",
    "\n",
    "test_data = np.loadtxt(test_file_path)\n",
    "test_X = test_data[:, :-1]\n",
    "test_y = test_data[:, -1]\n"
   ]
  },
  {
   "cell_type": "code",
   "execution_count": 84,
   "metadata": {},
   "outputs": [
    {
     "name": "stdout",
     "output_type": "stream",
     "text": [
      "\n",
      "Najlepsze rozwiązanie:\n",
      "((((x[1] * x[1]) - (x[1] + x[1])) / ((x[0] - x[1]) / (x[1] / x[2]))) + (((x[2] - x[0]) / (x[1] - x[0])) / ((x[0] - x[0]) + (x[2] / x[1]))))\n",
      "2.1043416214478898e-13\n",
      "2.3692766439142076e-13\n",
      "Oryginalna funkcja:\n",
      " (x[0]/x[1])\n"
     ]
    }
   ],
   "source": [
    "best_tree = genetic_programming(train_X, train_y, num_generations=10000)\n",
    "print(\"\\nNajlepsze rozwiązanie:\")\n",
    "print(best_tree)\n",
    "print(fitness(best_tree, train_X, train_y))\n",
    "print(fitness(best_tree, test_X, test_y))\n",
    "\n",
    "print(\"Oryginalna funkcja:\\n (x[0]/x[1])\")"
   ]
  }
 ],
 "metadata": {
  "kernelspec": {
   "display_name": "DataScience",
   "language": "python",
   "name": "python3"
  },
  "language_info": {
   "codemirror_mode": {
    "name": "ipython",
    "version": 3
   },
   "file_extension": ".py",
   "mimetype": "text/x-python",
   "name": "python",
   "nbconvert_exporter": "python",
   "pygments_lexer": "ipython3",
   "version": "3.10.2"
  }
 },
 "nbformat": 4,
 "nbformat_minor": 2
}
